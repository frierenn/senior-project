{
 "cells": [
  {
   "cell_type": "code",
   "execution_count": 1,
   "id": "1870b793-1563-4297-a77e-fa8e39da3aad",
   "metadata": {},
   "outputs": [
    {
     "name": "stdout",
     "output_type": "stream",
     "text": [
      "    Downloading __databases__.pickle_new...\n",
      "    Done!\n",
      "Checking exotethys database...\n",
      "Checking ephemerides database...\n",
      "Checking photometry database...\n",
      "Checking catalogues database...\n",
      "    Downloading ecc_planets.yaml...\n",
      "    Done!\n"
     ]
    }
   ],
   "source": [
    "import pylightcurve as plc\n",
    "import matplotlib.pyplot as plt\n",
    "import numpy as np\n",
    "import pandas as pd"
   ]
  },
  {
   "cell_type": "code",
   "execution_count": 2,
   "id": "73a7da33-5f8c-454c-9351-e48ec20a3f63",
   "metadata": {},
   "outputs": [],
   "source": [
    "planet = plc.get_planet(\"WASP 12-b\")"
   ]
  },
  {
   "cell_type": "code",
   "execution_count": 3,
   "id": "34d0c9d6-667b-494a-ba49-7e49af819a64",
   "metadata": {},
   "outputs": [],
   "source": [
    "df = pd.read_csv (r'C:\\Users\\Ricks\\Documents\\mahidol\\SNR PROJ\\WASP-12b (2013)\\data3\\data3_measurements.csv')\n",
    "\n",
    "bjds = df['BJD_TDB']\n",
    "\n",
    "rel_flux_t1_dfn = df['rel_flux_T1_dfn']\n",
    "rel_flux_err_t1_dfn = df['rel_flux_err_T1_dfn']\n",
    "rel_flux_t1_dfn_model = df['rel_flux_T1_dfn_model']\n",
    "rel_flux_t1_dfn_residual = df['rel_flux_T1_dfn_residual']\n",
    "rel_flux_err_t1_dfn_residual = df['rel_flux_err_T1_dfn_residual']"
   ]
  },
  {
   "cell_type": "code",
   "execution_count": 4,
   "id": "d2c4f448-4f33-4f08-b49e-30c899034f36",
   "metadata": {},
   "outputs": [],
   "source": [
    "tj = np.array(bjds)\n",
    "tjc = np.delete(tj, 180)\n",
    "t = np.array([i-tjc[0] for i in tjc])\n",
    "\n",
    "fluxamj = np.array(rel_flux_t1_dfn)\n",
    "fluxamjc = np.delete(fluxamj, 180)\n",
    "fluxam = np.array([i-fluxamjc[0] for i in fluxamjc])\n",
    "\n",
    "fluxerrj = np.array(rel_flux_err_t1_dfn)\n",
    "fluxerr = np.delete(fluxerrj, 180)"
   ]
  },
  {
   "cell_type": "code",
   "execution_count": 5,
   "id": "1198986a-1e2a-4375-90ad-5cda8b830474",
   "metadata": {},
   "outputs": [
    {
     "name": "stdout",
     "output_type": "stream",
     "text": [
      "PHOENIX models are only computed for solar metallicity stars. Setting stellar_metallicity = 0.\n",
      "Fp/Fs estimated using A=0.15, e=1.0 for filter sdss_r.\n"
     ]
    }
   ],
   "source": [
    "planet.add_observation(\n",
    "    time = tjc,                # the time vector of our observation\n",
    "                                # np.array of float values \n",
    "    \n",
    "    time_format = 'BJD_TDB',    # format in which our time vector is expressed\n",
    "                                # str, available formats are: JD_UTC, MJD_UTC, HJD_UTC, HJD_TDB, BJD_UTC, BJD_TDB \n",
    "\n",
    "    exp_time = 100,             # exposure time of our time vector\n",
    "                                # float, in seconds\n",
    "        \n",
    "    time_stamp = 'mid',         # exposure time stamp for our time vector (do the numbers refer to the exposure start, the mid-exposure, or the exposure end?)\n",
    "                                # str, available stamps are: start, mid, end \n",
    "    \n",
    "    flux = fluxamjc,                # the flux vector of our observation\n",
    "                                # np.array of float values, \n",
    "    \n",
    "    flux_unc = fluxerr,        # the flux-uncertainty vector of our observation\n",
    "                                # np.array of float values, \n",
    "    \n",
    "    flux_format = 'flux',       # format in which our flux and flux-uncertainty vectors are expressed\n",
    "                                # str, available formats are: flux, mag\n",
    "    \n",
    "    filter_name = 'sdss_r'   # filter used for this observation \n",
    "                                # str, available filters are: all the default filters and those added manually by us\n",
    ")"
   ]
  },
  {
   "cell_type": "code",
   "execution_count": 6,
   "id": "1a95561e-3d61-4fd4-8a1c-a22f64e326bf",
   "metadata": {},
   "outputs": [
    {
     "name": "stdout",
     "output_type": "stream",
     "text": [
      "\u001b[KMCMC...........: 130200 / 130200    time left: 0:00:00   total time: 0:03:03MCMC...........:  19600 / 130200    time left: 0:03:05   total time: 0:00:32\n"
     ]
    }
   ],
   "source": [
    "planet.transit_fitting('py data',\n",
    "                       fit_individual_times = False, \n",
    "                       fit_period = True, \n",
    "                       fit_sma_over_rs = True,\n",
    "                       fit_inclination = True,\n",
    "                       fit_ldc1 = True)"
   ]
  },
  {
   "cell_type": "code",
   "execution_count": null,
   "id": "36d81a87-f195-47cb-b424-b9e94f33b839",
   "metadata": {},
   "outputs": [],
   "source": []
  }
 ],
 "metadata": {
  "kernelspec": {
   "display_name": "Python 3 (ipykernel)",
   "language": "python",
   "name": "python3"
  },
  "language_info": {
   "codemirror_mode": {
    "name": "ipython",
    "version": 3
   },
   "file_extension": ".py",
   "mimetype": "text/x-python",
   "name": "python",
   "nbconvert_exporter": "python",
   "pygments_lexer": "ipython3",
   "version": "3.9.7"
  }
 },
 "nbformat": 4,
 "nbformat_minor": 5
}
