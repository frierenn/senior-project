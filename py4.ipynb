{
 "cells": [
  {
   "cell_type": "code",
   "execution_count": 24,
   "id": "9decd649-7657-41b6-898b-a20b3986a24d",
   "metadata": {},
   "outputs": [],
   "source": [
    "import pylightcurve as plc\n",
    "import matplotlib.pyplot as plt\n",
    "import numpy as np\n",
    "import pandas as pd"
   ]
  },
  {
   "cell_type": "code",
   "execution_count": 25,
   "id": "4b8fbbdf-bc33-464a-8b95-7fecd5bfe1a2",
   "metadata": {},
   "outputs": [],
   "source": [
    "planet = plc.get_planet(\"WASP 12-b\")"
   ]
  },
  {
   "cell_type": "code",
   "execution_count": 26,
   "id": "3d241171-6b1f-44ab-9f62-0c9b217cddca",
   "metadata": {},
   "outputs": [],
   "source": [
    "df = pd.read_csv (r'C:\\Users\\Ricks\\Documents\\mahidol\\SNR PROJ\\WASP-12b (2013)\\data4\\data4_measurements.csv')\n",
    "bjds = df['BJD_TDB']\n",
    "\n",
    "rel_flux_t1_dfn = df['rel_flux_T1_dfn']\n",
    "rel_flux_err_t1_dfn = df['rel_flux_err_T1_dfn']\n",
    "rel_flux_t1_dfn_model = df['rel_flux_T1_dfn_model']\n",
    "rel_flux_t1_dfn_residual = df['rel_flux_T1_dfn_residual']\n",
    "rel_flux_err_t1_dfn_residual = df['rel_flux_err_T1_dfn_residual']"
   ]
  },
  {
   "cell_type": "code",
   "execution_count": 27,
   "id": "8232bbf4-5d00-4b60-ac32-a93fbe5e8264",
   "metadata": {},
   "outputs": [],
   "source": [
    "tj = np.array(bjds)\n",
    "tjc = np.delete(tj, 180)\n",
    "t = np.array([i-tjc[0] for i in tjc])\n",
    "\n",
    "fluxamj = np.array(rel_flux_t1_dfn)\n",
    "fluxamjc = np.delete(fluxamj, 180)\n",
    "fluxam = np.array([i-fluxamjc[0] for i in fluxamjc])\n",
    "\n",
    "fluxerrj = np.array(rel_flux_err_t1_dfn)\n",
    "fluxerr = np.delete(fluxerrj, 180)"
   ]
  },
  {
   "cell_type": "code",
   "execution_count": 28,
   "id": "d384bbc7-7681-4ce9-811e-7239cb549c05",
   "metadata": {},
   "outputs": [
    {
     "name": "stdout",
     "output_type": "stream",
     "text": [
      "PHOENIX models are only computed for solar metallicity stars. Setting stellar_metallicity = 0.\n",
      "Fp/Fs estimated using A=0.15, e=1.0 for filter sdss_r.\n"
     ]
    }
   ],
   "source": [
    "planet.add_observation(\n",
    "    time = tjc,                # the time vector of our observation\n",
    "                                # np.array of float values \n",
    "    \n",
    "    time_format = 'BJD_TDB',    # format in which our time vector is expressed\n",
    "                                # str, available formats are: JD_UTC, MJD_UTC, HJD_UTC, HJD_TDB, BJD_UTC, BJD_TDB \n",
    "\n",
    "    exp_time = 100,             # exposure time of our time vector\n",
    "                                # float, in seconds\n",
    "        \n",
    "    time_stamp = 'mid',         # exposure time stamp for our time vector (do the numbers refer to the exposure start, the mid-exposure, or the exposure end?)\n",
    "                                # str, available stamps are: start, mid, end \n",
    "    \n",
    "    flux = fluxamjc,                # the flux vector of our observation\n",
    "                                # np.array of float values, \n",
    "    \n",
    "    flux_unc = fluxerr,        # the flux-uncertainty vector of our observation\n",
    "                                # np.array of float values, \n",
    "    \n",
    "    flux_format = 'flux',       # format in which our flux and flux-uncertainty vectors are expressed\n",
    "                                # str, available formats are: flux, mag\n",
    "    \n",
    "    filter_name = 'sdss_r'   # filter used for this observation \n",
    "                                # str, available filters are: all the default filters and those added manually by us\n",
    ")"
   ]
  },
  {
   "cell_type": "code",
   "execution_count": 35,
   "id": "85b6664f-5ee4-4ff5-b5c3-d16270ed14b4",
   "metadata": {},
   "outputs": [
    {
     "name": "stdout",
     "output_type": "stream",
     "text": [
      "\u001b[KMCMC...........: 130200 / 130200    time left: 0:00:00   total time: 0:05:52MCMC...........:  90600 / 130200    time left: 0:01:51   total time: 0:04:14\n"
     ]
    }
   ],
   "source": [
    "planet.transit_fitting('py data',\n",
    "                       fit_individual_times = False, \n",
    "                       fit_period = True, \n",
    "                       fit_sma_over_rs = True,\n",
    "                       fit_inclination = True,\n",
    "                       fit_ldc1 = True,\n",
    "                       precision = 6,\n",
    "                       fit_rp_over_rs_limits = [0.9, 1.1],\n",
    "                       fit_period_limits = [0.99,1.01],\n",
    "                       fit_sma_over_rs_limits = [0.9, 1.1]\n",
    "              )"
   ]
  },
  {
   "cell_type": "code",
   "execution_count": null,
   "id": "de746505-7486-40b4-b214-b1182f6a6c7f",
   "metadata": {},
   "outputs": [],
   "source": []
  }
 ],
 "metadata": {
  "kernelspec": {
   "display_name": "Python 3 (ipykernel)",
   "language": "python",
   "name": "python3"
  },
  "language_info": {
   "codemirror_mode": {
    "name": "ipython",
    "version": 3
   },
   "file_extension": ".py",
   "mimetype": "text/x-python",
   "name": "python",
   "nbconvert_exporter": "python",
   "pygments_lexer": "ipython3",
   "version": "3.9.7"
  }
 },
 "nbformat": 4,
 "nbformat_minor": 5
}
