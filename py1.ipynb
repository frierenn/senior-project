{
 "cells": [
  {
   "cell_type": "code",
   "execution_count": 5,
   "id": "d6f930c8",
   "metadata": {},
   "outputs": [],
   "source": [
    "import pylightcurve as plc\n",
    "import matplotlib.pyplot as plt\n",
    "import numpy as np"
   ]
  },
  {
   "cell_type": "code",
   "execution_count": 19,
   "id": "85f795f6",
   "metadata": {},
   "outputs": [],
   "source": [
    "planet = plc.get_planet(\"WASP-12b\")"
   ]
  },
  {
   "cell_type": "code",
   "execution_count": 21,
   "id": "fe36bb2d-6e84-42ca-90fb-20afcfb6f5b5",
   "metadata": {},
   "outputs": [
    {
     "data": {
      "text/plain": [
       "[0.43587343646374815,\n",
       " -0.007747301411196967,\n",
       " 0.5800363467375248,\n",
       " -0.30759369434385286]"
      ]
     },
     "execution_count": 21,
     "metadata": {},
     "output_type": "execute_result"
    }
   ],
   "source": [
    "limb_darkening_coefficients = planet.filter('sdss_r').limb_darkening_coefficients\n",
    "limb_darkening_coefficients"
   ]
  },
  {
   "cell_type": "code",
   "execution_count": 7,
   "id": "64ccc2ab-d9bd-4e5b-83ec-fedf7b1d4815",
   "metadata": {},
   "outputs": [],
   "source": [
    "import pandas as pd\n",
    "\n",
    "df = pd.read_csv (r'C:\\Users\\Ricks\\Documents\\mahidol\\SNR PROJ\\WASP-12b (2013)\\data1\\data1_measurements.csv')\n",
    "\n",
    "bjds = df['BJD_TDB']\n",
    "\n",
    "rel_flux_t1 = df['rel_flux_T1']\n",
    "rel_flux_err = df['rel_flux_err_T1']\n",
    "\n",
    "rel_flux_t1_dfn = df['rel_flux_T1_dfn']\n",
    "rel_flux_err_t1_dfn = df['rel_flux_err_T1_dfn']\n",
    "rel_flux_t1_dfn_model = df['rel_flux_T1_dfn_model']\n",
    "rel_flux_t1_dfn_residual = df['rel_flux_T1_dfn_residual']\n",
    "rel_flux_err_t1_dfn_residual = df['rel_flux_err_T1_dfn_residual']"
   ]
  },
  {
   "cell_type": "code",
   "execution_count": 8,
   "id": "39f589b4-7e5b-44e6-9596-ffb8429a37c3",
   "metadata": {},
   "outputs": [
    {
     "data": {
      "text/plain": [
       "229"
      ]
     },
     "execution_count": 8,
     "metadata": {},
     "output_type": "execute_result"
    }
   ],
   "source": [
    "tj = np.array(bjds)\n",
    "tjc = np.delete(tj, 180)\n",
    "t = np.array([i-tjc[0] for i in tjc])\n",
    "\n",
    "fluxj = np.array(rel_flux_t1)\n",
    "fluxjc = np.delete(fluxj, 180)\n",
    "flux = np.array([i-fluxjc[0] for i in fluxjc])\n",
    "\n",
    "fluxamj = np.array(rel_flux_t1_dfn)\n",
    "fluxamjc = np.delete(fluxamj, 180)\n",
    "fluxam = np.array([i-fluxamjc[0] for i in fluxamjc])\n",
    "\n",
    "fluxmodelj = np.array(rel_flux_t1_dfn_model)\n",
    "fluxmodeljc = np.delete(fluxmodelj, 180)\n",
    "fluxmodel = np.array([i-fluxmodeljc[0] for i in fluxmodeljc])\n",
    "\n",
    "fluxerr = np.mean(np.array(rel_flux_err))\n",
    "fluxamerr = np.array(rel_flux_err_t1_dfn)\n",
    "fluxamerrc = np.delete(fluxamerr, 180)\n",
    "\n",
    "periods = 1.09\n",
    "t0s = 0.125\n",
    "yerr = fluxamerr\n",
    "len(fluxamerrc)"
   ]
  },
  {
   "cell_type": "code",
   "execution_count": 9,
   "id": "0dfc983e-1abb-496f-9f92-deddbe417ef9",
   "metadata": {},
   "outputs": [
    {
     "name": "stdout",
     "output_type": "stream",
     "text": [
      "PHOENIX models are only computed for solar metallicity stars. Setting stellar_metallicity = 0.\n",
      "Fp/Fs estimated using A=0.15, e=1.0 for filter sdss_r.\n"
     ]
    }
   ],
   "source": [
    "planet.add_observation(\n",
    "    time = tjc,                # the time vector of our observation\n",
    "                                # np.array of float values \n",
    "    \n",
    "    time_format = 'BJD_TDB',    # format in which our time vector is expressed\n",
    "                                # str, available formats are: JD_UTC, MJD_UTC, HJD_UTC, HJD_TDB, BJD_UTC, BJD_TDB \n",
    "\n",
    "    exp_time = 100,             # exposure time of our time vector\n",
    "                                # float, in seconds\n",
    "        \n",
    "    time_stamp = 'mid',         # exposure time stamp for our time vector (do the numbers refer to the exposure start, the mid-exposure, or the exposure end?)\n",
    "                                # str, available stamps are: start, mid, end \n",
    "    \n",
    "    flux = fluxamjc,                # the flux vector of our observation\n",
    "                                # np.array of float values, \n",
    "    \n",
    "    flux_unc = fluxamerrc,        # the flux-uncertainty vector of our observation\n",
    "                                # np.array of float values, \n",
    "    \n",
    "    flux_format = 'flux',       # format in which our flux and flux-uncertainty vectors are expressed\n",
    "                                # str, available formats are: flux, mag\n",
    "    \n",
    "    filter_name = 'sdss_r'   # filter used for this observation \n",
    "                                # str, available filters are: all the default filters and those added manually by us\n",
    ")"
   ]
  },
  {
   "cell_type": "code",
   "execution_count": 6,
   "id": "46a0bfde-d3a4-4b3e-995b-879ae2d91ff7",
   "metadata": {},
   "outputs": [
    {
     "name": "stdout",
     "output_type": "stream",
     "text": [
      "\u001b[KMCMC...........: 130200 / 130200    time left: 0:00:00   total time: 0:03:03\n"
     ]
    }
   ],
   "source": [
    "planet.transit_fitting('py data', \n",
    "                       fit_individual_times = False, \n",
    "                       fit_period = True, \n",
    "                       fit_sma_over_rs = True,\n",
    "                       fit_inclination = True)"
   ]
  },
  {
   "cell_type": "code",
   "execution_count": null,
   "id": "de234b4e-94a7-49aa-b36c-5107aee560e3",
   "metadata": {},
   "outputs": [],
   "source": []
  }
 ],
 "metadata": {
  "kernelspec": {
   "display_name": "Python 3 (ipykernel)",
   "language": "python",
   "name": "python3"
  },
  "language_info": {
   "codemirror_mode": {
    "name": "ipython",
    "version": 3
   },
   "file_extension": ".py",
   "mimetype": "text/x-python",
   "name": "python",
   "nbconvert_exporter": "python",
   "pygments_lexer": "ipython3",
   "version": "3.9.7"
  }
 },
 "nbformat": 4,
 "nbformat_minor": 5
}
